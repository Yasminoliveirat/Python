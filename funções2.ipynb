{
  "nbformat": 4,
  "nbformat_minor": 0,
  "metadata": {
    "colab": {
      "provenance": [],
      "authorship_tag": "ABX9TyPZK0Yc+LWJGAPjhufWLnDf",
      "include_colab_link": true
    },
    "kernelspec": {
      "name": "python3",
      "display_name": "Python 3"
    },
    "language_info": {
      "name": "python"
    }
  },
  "cells": [
    {
      "cell_type": "markdown",
      "metadata": {
        "id": "view-in-github",
        "colab_type": "text"
      },
      "source": [
        "<a href=\"https://colab.research.google.com/github/Yasminoliveirat/Python/blob/main/fun%C3%A7%C3%B5es2.ipynb\" target=\"_parent\"><img src=\"https://colab.research.google.com/assets/colab-badge.svg\" alt=\"Open In Colab\"/></a>"
      ]
    },
    {
      "cell_type": "code",
      "execution_count": null,
      "metadata": {
        "colab": {
          "base_uri": "https://localhost:8080/"
        },
        "id": "jccdNMSxZhlZ",
        "outputId": "f31fb472-daa5-4420-ea7a-1f618ad31daf"
      },
      "outputs": [
        {
          "output_type": "stream",
          "name": "stdout",
          "text": [
            "Serie 1 = 2.9289682539682538\n"
          ]
        }
      ],
      "source": [
        "def serie1():\n",
        "  s=0\n",
        "  c=1\n",
        "  while c<=10:\n",
        "    s=s+1/c\n",
        "    c=c+1\n",
        "  return s\n",
        "\n",
        "def main():\n",
        "  print(\"Serie 1 =\",serie1())\n",
        "\n",
        "main()"
      ]
    },
    {
      "cell_type": "code",
      "source": [
        "def serie2(N):\n",
        "  s=0\n",
        "  c=1\n",
        "  while c<=10:\n",
        "    s=s+1/c\n",
        "    c=c+1\n",
        "  return s\n",
        "\n",
        "def main():\n",
        "  print(\"Serie 1 =\",serie1())\n",
        "   print(\"Serie 2 =\", serie2(5))\n",
        "   valor= int(input(\"Digite um número inteiro positivo\"))\n",
        "   while valor <=0:\n",
        "     valor= int(input(\"Digite um número inteiro positivo\"))\n",
        "   print(\"Série 2 =\", serie2(valor))\n",
        "\n",
        "main()"
      ],
      "metadata": {
        "id": "jx2wACZtb4lK"
      },
      "execution_count": null,
      "outputs": []
    },
    {
      "cell_type": "code",
      "source": [
        "def serie2(N):\n",
        "  s=0\n",
        "  c=1\n",
        "  while c<=10:\n",
        "    s=s+1/c\n",
        "    c=c+1\n",
        "  return s\n",
        "\n",
        "  def tabuada(N):\n",
        "    c = 1\n",
        "    while c<= 10:\n",
        "      print(\"%d X %d = %d\" %(N,c,(N*c)))\n",
        "\n",
        "\n",
        "def main():\n",
        "  tabuada(5)\n",
        "\n",
        "main()\n"
      ],
      "metadata": {
        "id": "MV6chZoHcrJK"
      },
      "execution_count": null,
      "outputs": []
    }
  ]
}