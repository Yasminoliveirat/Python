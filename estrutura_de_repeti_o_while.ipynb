{
  "nbformat": 4,
  "nbformat_minor": 0,
  "metadata": {
    "colab": {
      "provenance": [],
      "authorship_tag": "ABX9TyMQTa3kCPLlWdW1THYKe2Fl",
      "include_colab_link": true
    },
    "kernelspec": {
      "name": "python3",
      "display_name": "Python 3"
    },
    "language_info": {
      "name": "python"
    }
  },
  "cells": [
    {
      "cell_type": "markdown",
      "metadata": {
        "id": "view-in-github",
        "colab_type": "text"
      },
      "source": [
        "<a href=\"https://colab.research.google.com/github/Yasminoliveirat/Python/blob/main/estrutura_de_repeti_o_while.ipynb\" target=\"_parent\"><img src=\"https://colab.research.google.com/assets/colab-badge.svg\" alt=\"Open In Colab\"/></a>"
      ]
    },
    {
      "cell_type": "code",
      "execution_count": null,
      "metadata": {
        "id": "Bpoahv_nOTnC"
      },
      "outputs": [],
      "source": [
        "p = 1\n",
        "total = int(input(\"Total: \"))\n",
        "while p <= total:\n",
        "  peso = float(input(\"Peso: \"))\n",
        "  altura = float(input(\"Altura: \"))\n",
        "  imc= peso/ altura **2\n",
        "  print (\"O imc é: \", imc)"
      ]
    },
    {
      "cell_type": "code",
      "source": [
        "valor = 0\n",
        "while valor <1 or valor >9:\n",
        "  valor= int(input(\"Valor: \"))\n",
        "  if valor <1 or valor >9:\n",
        "    print (\"ERRO! Valor inválido. Digite novamente. \")"
      ],
      "metadata": {
        "colab": {
          "base_uri": "https://localhost:8080/"
        },
        "id": "PuZEK6DUPltQ",
        "outputId": "7a9e88d8-4cf6-4383-98c5-d84d7ff77b7f"
      },
      "execution_count": null,
      "outputs": [
        {
          "name": "stdout",
          "output_type": "stream",
          "text": [
            "Valor: 24\n",
            "ERRO! Valor inválido. Digite novamente.\n",
            "Valor: 54\n",
            "ERRO! Valor inválido. Digite novamente.\n",
            "Valor: 6\n"
          ]
        }
      ]
    },
    {
      "cell_type": "code",
      "source": [
        "valor= int(input(\"Valor: \"))\n",
        "while valor < 1 or valor > 9:\n",
        "  if valor <1 or valor >9 :\n",
        "    print (\"ERRO! Valor inválido. Digite  novamente . \")\n",
        "    valor= int (input(\"Valor: \"))"
      ],
      "metadata": {
        "colab": {
          "base_uri": "https://localhost:8080/"
        },
        "id": "5p0ch34fb3xp",
        "outputId": "a23e84f0-86b1-4dec-847c-c423fd07d3d9"
      },
      "execution_count": null,
      "outputs": [
        {
          "name": "stdout",
          "output_type": "stream",
          "text": [
            "Valor: 34\n",
            "ERRO! Valor inválido. Digite  novamente . \n",
            "Valor: 3\n"
          ]
        }
      ]
    },
    {
      "cell_type": "code",
      "source": [
        "c=1\n",
        "soma=0\n",
        "while c<=4:\n",
        "  n= int(input(\"Valor: \"))\n",
        "  soma= soma +n\n",
        "  c= c+1\n",
        "  print(\"Somatória: \", soma)\n"
      ],
      "metadata": {
        "id": "hky3v1w7duPX"
      },
      "execution_count": null,
      "outputs": []
    },
    {
      "cell_type": "code",
      "source": [
        "s=0\n",
        "d= 2\n",
        "while d<= 1024:\n",
        "  s= s+1/2\n",
        "  d=d*2\n",
        "  print(\"Resultado: \", s)"
      ],
      "metadata": {
        "id": "XHluStLHon01",
        "colab": {
          "base_uri": "https://localhost:8080/"
        },
        "outputId": "157365fa-1450-4bd4-ad4e-f38a1d3561c2"
      },
      "execution_count": null,
      "outputs": [
        {
          "output_type": "stream",
          "name": "stdout",
          "text": [
            "Resultado:  0.5\n",
            "Resultado:  1.0\n",
            "Resultado:  1.5\n",
            "Resultado:  2.0\n",
            "Resultado:  2.5\n",
            "Resultado:  3.0\n",
            "Resultado:  3.5\n",
            "Resultado:  4.0\n",
            "Resultado:  4.5\n",
            "Resultado:  5.0\n"
          ]
        }
      ]
    },
    {
      "cell_type": "markdown",
      "source": [
        "elabore  um programa que leia 10 números reais. O programa deve calcular o exibir a somatória e a média dos números positivos digitados"
      ],
      "metadata": {
        "id": "lS-xBTXZvan7"
      }
    },
    {
      "cell_type": "code",
      "source": [
        "cp = 0\n",
        "s = 0\n",
        "c = 1\n",
        "while c<=10:\n",
        "  n= float(input(\"Valor: \"))\n",
        "  if n > 0:\n",
        "    s=s+n\n",
        "    cp=cp+1\n",
        "  c=c+1\n",
        "  print(\"Somatória dos números positivos \", s)\n",
        "  m= s/cp\n",
        "  print (\"média \", m)"
      ],
      "metadata": {
        "id": "XTTboxWCugV5"
      },
      "execution_count": null,
      "outputs": []
    }
  ]
}