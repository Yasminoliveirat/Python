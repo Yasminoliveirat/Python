{
  "nbformat": 4,
  "nbformat_minor": 0,
  "metadata": {
    "colab": {
      "provenance": [],
      "authorship_tag": "ABX9TyNEh1NIq93D71wXU84+Czl6",
      "include_colab_link": true
    },
    "kernelspec": {
      "name": "python3",
      "display_name": "Python 3"
    },
    "language_info": {
      "name": "python"
    }
  },
  "cells": [
    {
      "cell_type": "markdown",
      "metadata": {
        "id": "view-in-github",
        "colab_type": "text"
      },
      "source": [
        "<a href=\"https://colab.research.google.com/github/Yasminoliveirat/Python/blob/main/fun%C3%A7%C3%B5es.ipynb\" target=\"_parent\"><img src=\"https://colab.research.google.com/assets/colab-badge.svg\" alt=\"Open In Colab\"/></a>"
      ]
    },
    {
      "cell_type": "code",
      "execution_count": null,
      "metadata": {
        "colab": {
          "base_uri": "https://localhost:8080/"
        },
        "id": "wJNtxNs-xaxm",
        "outputId": "686a206e-d4e6-4973-c0fa-d53d7f73ca0a"
      },
      "outputs": [
        {
          "output_type": "stream",
          "name": "stdout",
          "text": [
            "Início do programa\n",
            "Olá!\n"
          ]
        }
      ],
      "source": [
        "def mensagem1():\n",
        "  print(\"Olá!\")\n",
        "\n",
        "print(\"Início do programa\")\n",
        "mensagem1()"
      ]
    },
    {
      "cell_type": "code",
      "source": [
        "def mensagem1():\n",
        "  print(\"Olá!\")\n",
        "\n",
        "def main():\n",
        "  print(\"Início do programa\")\n",
        "  mensagem1()\n",
        "  mensagem1()\n",
        "  mensagem1()\n",
        "\n",
        "main()"
      ],
      "metadata": {
        "colab": {
          "base_uri": "https://localhost:8080/"
        },
        "id": "ZqlifX0Ty16b",
        "outputId": "35aa4325-bcac-4d4c-ac21-c21f684852c4"
      },
      "execution_count": null,
      "outputs": [
        {
          "output_type": "stream",
          "name": "stdout",
          "text": [
            "Início do programa\n",
            "Olá!\n",
            "Olá!\n",
            "Olá!\n"
          ]
        }
      ]
    },
    {
      "cell_type": "code",
      "source": [
        "def mensagem1():\n",
        "  print(\"Olá!\")\n",
        "\n",
        "def mensagem2(nome):\n",
        "  print(\"Olá!\",nome)\n",
        "\n",
        "def main():\n",
        "  i=1\n",
        "  while i<=3:\n",
        "    entrada=input(\"Digite o seu nome: \")\n",
        "    mensagem2(entrada)\n",
        "    i+=1\n",
        "\n",
        "main()"
      ],
      "metadata": {
        "colab": {
          "base_uri": "https://localhost:8080/"
        },
        "id": "VgLuD59czK_m",
        "outputId": "11645563-4c7c-4fd9-cd32-6b555b51c916"
      },
      "execution_count": null,
      "outputs": [
        {
          "output_type": "stream",
          "name": "stdout",
          "text": [
            "Digite o seu nome: Yasmin\n",
            "Olá! Yasmin\n",
            "Digite o seu nome: pedro\n",
            "Olá! pedro\n",
            "Digite o seu nome: bruno\n",
            "Olá! bruno\n"
          ]
        }
      ]
    },
    {
      "cell_type": "code",
      "source": [
        "def mensagem1():\n",
        "  print(\"Olá!\")\n",
        "\n",
        "def mensagem2(nome, idade):\n",
        "  print(\"Olá!\",nome,\"Você tem\", idade, \"anos.\")\n",
        "\n",
        "def main():\n",
        "  i=1\n",
        "  while i<=3:\n",
        "    entrada=input(\"Digite o seu nome: \")\n",
        "    entradaIdade=int(input(\"Digite sua idade: \"))\n",
        "    mensagem2(entrada, entradaIdade)\n",
        "    i+=1\n",
        "\n",
        "main()"
      ],
      "metadata": {
        "id": "bQw37aac0wLD"
      },
      "execution_count": null,
      "outputs": []
    },
    {
      "cell_type": "code",
      "source": [
        "def mensagem3() :\n",
        "  m=2\n",
        "  return m\n",
        "\n",
        "def main():\n",
        "  m = mensagem3()\n",
        "  print(m)\n",
        "  print(mensagem3())\n",
        "\n",
        "main()"
      ],
      "metadata": {
        "colab": {
          "base_uri": "https://localhost:8080/"
        },
        "id": "iRV9doYM2Etm",
        "outputId": "3bd4e7aa-992f-4d52-9e7b-716f4b745ad6"
      },
      "execution_count": null,
      "outputs": [
        {
          "output_type": "stream",
          "name": "stdout",
          "text": [
            "2\n",
            "2\n"
          ]
        }
      ]
    },
    {
      "cell_type": "code",
      "source": [
        "def mensagem3() :\n",
        "  m=2\n",
        "  return m\n",
        "\n",
        "def mensagem4(nome):\n",
        "  return \"Olá \" + nome +  \"!\"\n",
        "\n",
        "def main():\n",
        "  m = mensagem4(\"Yasmin\")\n",
        "  print(m)\n",
        "  print(mensagem4(\"Yasmin\"))\n",
        "\n",
        "main()"
      ],
      "metadata": {
        "colab": {
          "base_uri": "https://localhost:8080/"
        },
        "id": "iBFrPlOP2wG3",
        "outputId": "f6ad67db-2c88-459f-816d-92e0e8047e7c"
      },
      "execution_count": null,
      "outputs": [
        {
          "output_type": "stream",
          "name": "stdout",
          "text": [
            "Olá Yasmin!\n",
            "Olá Yasmin!\n"
          ]
        }
      ]
    }
  ]
}