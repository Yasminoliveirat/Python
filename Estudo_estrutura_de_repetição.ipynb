{
  "nbformat": 4,
  "nbformat_minor": 0,
  "metadata": {
    "colab": {
      "provenance": [],
      "authorship_tag": "ABX9TyOZffff9r7dsbGfgYcnTXQ9",
      "include_colab_link": true
    },
    "kernelspec": {
      "name": "python3",
      "display_name": "Python 3"
    },
    "language_info": {
      "name": "python"
    }
  },
  "cells": [
    {
      "cell_type": "markdown",
      "metadata": {
        "id": "view-in-github",
        "colab_type": "text"
      },
      "source": [
        "<a href=\"https://colab.research.google.com/github/Yasminoliveirat/Python/blob/main/Estudo_estrutura_de_repeti%C3%A7%C3%A3o.ipynb\" target=\"_parent\"><img src=\"https://colab.research.google.com/assets/colab-badge.svg\" alt=\"Open In Colab\"/></a>"
      ]
    },
    {
      "cell_type": "markdown",
      "source": [
        "Dado o programa:\n",
        "\n",
        "1.n1 = float(input(\"Digite a 1a. Nota\"))\n",
        "2.n2 = float(input(\"Digite a 2a. Nota\"))\n",
        "3.media = (n1 * 3.5 + n2 * 7.5)/11\n",
        "4._________________________________\n",
        "\n",
        "Considere que o usuário forneceu os valores: 5.0 e 7.1. Assinale a alternativa com a instrução que deve ser usada na linha 4 para que seja exibida a mensagem: MEDIA = 6.43182\n",
        "(1 Ponto)"
      ],
      "metadata": {
        "id": "sZLcD0fXf6_X"
      }
    },
    {
      "cell_type": "code",
      "execution_count": null,
      "metadata": {
        "id": "IRgME8XXf3dG"
      },
      "outputs": [],
      "source": [
        "n1 = float(input(\"Digite a 1a. Nota\"))\n",
        "n2 = float(input(\"Digite a 2a. Nota\"))\n",
        "media = (n1 * 3.5 + n2 * 7.5)/11\n",
        "print(\"MEDIA = %.5f\" % media)"
      ]
    },
    {
      "cell_type": "markdown",
      "source": [
        "Dado o programa:\n",
        "\n",
        "1. x = int(input(\"Digite o valor máximo (deve ser maior que 2) \"))\n",
        "2. i=2\n",
        "3. while i<=x:\n",
        "4.    print(\"%d * %d = %d\" % (i,2,(i*2)))\n",
        "5.    i=i+1\n",
        "6.print(\"Fim\")\n",
        "\n",
        "Se o usuário digitar o número 6, quando a linha 6 for executada, o valor de i será:"
      ],
      "metadata": {
        "id": "cG4LtIWXgGEi"
      }
    },
    {
      "cell_type": "code",
      "source": [
        "x = int(input(\"Digite o valor máximo (deve ser maior que 2) \"))\n",
        "i=2\n",
        "while i<=x:\n",
        "    print(\"%d * %d = %d\" % (i,2,(i*2)))\n",
        "    i=i+1\n",
        "print(\"Fim\")"
      ],
      "metadata": {
        "colab": {
          "base_uri": "https://localhost:8080/"
        },
        "id": "tkh04EH0gJFC",
        "outputId": "8c28c4d3-f45c-441f-a774-abdb684a353b"
      },
      "execution_count": null,
      "outputs": [
        {
          "output_type": "stream",
          "name": "stdout",
          "text": [
            "Digite o valor máximo (deve ser maior que 2) 6\n",
            "2 * 2 = 4\n",
            "3 * 2 = 6\n",
            "4 * 2 = 8\n",
            "5 * 2 = 10\n",
            "6 * 2 = 12\n",
            "Fim\n"
          ]
        }
      ]
    },
    {
      "cell_type": "markdown",
      "source": [
        "Dado o programa:\n",
        "\n",
        "c=1\n",
        "\n",
        "x=3\n",
        "\n",
        "s=0\n",
        "\n",
        "while c<=5:\n",
        "\n",
        "    s=s+1/x\n",
        "    x=x+2\n",
        "    c=c+1\n",
        "print(\"Resultado da expressão %f\" % s)\n",
        "\n",
        "Assinale a opção com a série que será calculada pelo programa:"
      ],
      "metadata": {
        "id": "NZDOhQj3guEz"
      }
    },
    {
      "cell_type": "code",
      "source": [
        "c=1\n",
        "x=3\n",
        "s=0\n",
        "while c<=5:\n",
        "    s=s+1/x\n",
        "    x=x+2\n",
        "    c=c+1\n",
        "print(\"Resultado da expressão %f\" % s)"
      ],
      "metadata": {
        "colab": {
          "base_uri": "https://localhost:8080/"
        },
        "id": "8IfVwPNfgtv7",
        "outputId": "58538ccb-7401-4178-9c11-2ca176d9d54c"
      },
      "execution_count": null,
      "outputs": [
        {
          "output_type": "stream",
          "name": "stdout",
          "text": [
            "Resultado da expressão 0.878211\n"
          ]
        }
      ]
    },
    {
      "cell_type": "markdown",
      "source": [
        "Considere o código-fonte:\n",
        "\n",
        "i=50\n",
        "\n",
        "while i>0:\n",
        "\n",
        "    i = i // 3\n",
        "    \n",
        "    print('%d' % i)\n",
        "    \n",
        "Quantas vezes a condição do comando while será verdadeira?"
      ],
      "metadata": {
        "id": "EfBI4LmZh8Q3"
      }
    },
    {
      "cell_type": "code",
      "source": [
        "i=50\n",
        "while i>0:\n",
        "    i = i // 3\n",
        "    print('%d' % i)"
      ],
      "metadata": {
        "colab": {
          "base_uri": "https://localhost:8080/"
        },
        "id": "pZKMzfmBicVY",
        "outputId": "64186e4f-e4ef-4d6d-d560-865d41edafe1"
      },
      "execution_count": null,
      "outputs": [
        {
          "output_type": "stream",
          "name": "stdout",
          "text": [
            "16\n",
            "5\n",
            "1\n",
            "0\n"
          ]
        }
      ]
    },
    {
      "cell_type": "markdown",
      "source": [
        "Considere o exemplo de entrada e a saída, e o código-fonte. Assinale a alternativa com a instrução que deve ser adicionada à linha 5 para gerar a saída solicitada:\n",
        "\n",
        "entrada: 6\n",
        "\n",
        "saída:\n",
        "2 ^ 2 = 4\n",
        "\n",
        "4 ^ 2 = 16\n",
        "\n",
        "6 ^ 2 = 36"
      ],
      "metadata": {
        "id": "Kk-V28l2i8ha"
      }
    },
    {
      "cell_type": "code",
      "source": [
        "x= int(input())\n",
        "i=2\n",
        "while i<=x:\n",
        "  print (\"%d ^ %d = %d\" % (i,2,(i*i))) #Linha 5#\n",
        "  i=i+2"
      ],
      "metadata": {
        "colab": {
          "base_uri": "https://localhost:8080/"
        },
        "id": "o5Gf4RTEi-i6",
        "outputId": "c994e375-7651-4bdb-f2db-2805a53bc014"
      },
      "execution_count": null,
      "outputs": [
        {
          "output_type": "stream",
          "name": "stdout",
          "text": [
            "6\n",
            "2 ^ 2 = 4\n",
            "4 ^ 2 = 16\n",
            "6 ^ 2 = 36\n"
          ]
        }
      ]
    },
    {
      "cell_type": "markdown",
      "source": [
        "Considere o código-fonte:\n",
        "\n",
        "\n",
        "1.i=1\n",
        "\n",
        "2.while i < 20:\n",
        "\n",
        "3.    print ('%i' % i)\n",
        "\n",
        "4.    i = i * 2\n",
        "\n",
        "Assinale a alternativa com a afirmação correta\n",
        "\n",
        "**Resposta:** O código-fonte exibirá na tela os números 1, 2, 4, 8 e 16. A repetição será encerrada porque a variável i receberá o valor 32 que tornará a sua condição falsa."
      ],
      "metadata": {
        "id": "H8uje3VHkFrE"
      }
    },
    {
      "cell_type": "code",
      "source": [
        "i=1\n",
        "while i < 20:\n",
        "    print ('%i' % i)\n",
        "    i = i * 2"
      ],
      "metadata": {
        "colab": {
          "base_uri": "https://localhost:8080/"
        },
        "id": "RqgmK3iFkL3R",
        "outputId": "8daa3c84-897a-46a9-8f2b-19e7ceaabaed"
      },
      "execution_count": null,
      "outputs": [
        {
          "output_type": "stream",
          "name": "stdout",
          "text": [
            "1\n",
            "2\n",
            "4\n",
            "8\n",
            "16\n",
            "32\n"
          ]
        }
      ]
    },
    {
      "cell_type": "markdown",
      "source": [
        "Dado código-fonte. Considere que o usuário digitou 22. Assinale a opção com a afirmação correta\n",
        "\n",
        "**Resposta:** O programa exibirá: Quoc 7 Rest 1 . A condição do comando while foi verdadeira durante a execução do programa por 7 vezes"
      ],
      "metadata": {
        "id": "-LDtPzCtkv5B"
      }
    },
    {
      "cell_type": "markdown",
      "source": [
        "Dado código-fonte. Assinale a opção com a afirmação correta considerando que o usuário digitou o valor 22:\n",
        "\n",
        "**Resposta:** Na última vez que a condição do comando while for verdadeira, o valor da variável denominada valor será 1."
      ],
      "metadata": {
        "id": "_7JRep_umy58"
      }
    },
    {
      "cell_type": "code",
      "source": [
        "conta =0\n",
        "valor = int(input(\"digite um valor: \"))\n",
        "\n",
        "while valor-3 >=0:\n",
        "  conta= conta + 1\n",
        "  valor = valor - 3\n",
        "\n",
        "print(\"Quoc %d Rest %d\" % (conta, valor))"
      ],
      "metadata": {
        "colab": {
          "base_uri": "https://localhost:8080/"
        },
        "id": "5qPGmr9TkxrM",
        "outputId": "a3089759-f758-42f8-9123-db49abc52624"
      },
      "execution_count": null,
      "outputs": [
        {
          "output_type": "stream",
          "name": "stdout",
          "text": [
            "digite um valor: 22\n",
            "Quoc 7 Rest 1\n"
          ]
        }
      ]
    }
  ]
}