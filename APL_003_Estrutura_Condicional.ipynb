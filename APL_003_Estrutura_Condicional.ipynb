{
  "nbformat": 4,
  "nbformat_minor": 0,
  "metadata": {
    "colab": {
      "provenance": [],
      "authorship_tag": "ABX9TyPujh3t/kdnkjJaTWwSs65i",
      "include_colab_link": true
    },
    "kernelspec": {
      "name": "python3",
      "display_name": "Python 3"
    },
    "language_info": {
      "name": "python"
    }
  },
  "cells": [
    {
      "cell_type": "markdown",
      "metadata": {
        "id": "view-in-github",
        "colab_type": "text"
      },
      "source": [
        "<a href=\"https://colab.research.google.com/github/Yasminoliveirat/Python/blob/main/APL_003_Estrutura_Condicional.ipynb\" target=\"_parent\"><img src=\"https://colab.research.google.com/assets/colab-badge.svg\" alt=\"Open In Colab\"/></a>"
      ]
    },
    {
      "cell_type": "markdown",
      "source": [
        "Calculo de média"
      ],
      "metadata": {
        "id": "lHO435dmsQwT"
      }
    },
    {
      "cell_type": "code",
      "source": [
        "n1,n2,n3,n4 = map(float,input().split())\n",
        "m= (2*n1+3*n2+4*n3+1*n4)/10\n",
        "print (\"Media: \", m)\n",
        "if m >= 7.0:\n",
        "  print(\"Aluno aprovado.\")\n",
        "elif m <= 5.0:\n",
        "    print(\"Aluno reprovado.\")\n",
        "elif m >= 5.0 and m <= 6.9:\n",
        "      print(\"Aluno em exame.\")\n",
        "      ex= float(input(\"Nota do exame: \"))\n",
        "      m= (m+ex)/2\n",
        "      if m >= 5.0:\n",
        "        print(\"Aluno aprovado.\")\n",
        "      elif m<=4.9:\n",
        "          print(\"Aluno reprovado.\")\n",
        "\n",
        "print(\"Media final: \" ,m)\n",
        ""
      ],
      "metadata": {
        "colab": {
          "base_uri": "https://localhost:8080/"
        },
        "id": "tEdSpplmMW8K",
        "outputId": "0ba5a0aa-81f5-49d6-c90b-fab6ec1d79ac"
      },
      "execution_count": null,
      "outputs": [
        {
          "output_type": "stream",
          "name": "stdout",
          "text": [
            "2.0 4.0 7.5 8.0\n",
            "Media:  5.4\n",
            "Aluno em exame.\n",
            "Nota do exame: 6.4\n",
            "Aluno aprovado.\n",
            "Media final:  5.9\n"
          ]
        }
      ]
    },
    {
      "cell_type": "code",
      "source": [
        "n1,n2,n3,n4 = map(float,input().split())\n",
        "\n",
        "media =(2*n1 + 3*n2 + 4*n3 + 1*n4)/10\n",
        "print(\"Media: %.1f\" % media)\n",
        "\n",
        "if media >= 7.0:\n",
        "    print(\"Aluno aprovado.\")\n",
        "elif media < 5.0:\n",
        "    print(\"Aluno reprovado.\")\n",
        "elif media >= 5.0 and media <= 6.9:\n",
        "    print(\"Aluno em exame.\")\n",
        "    n5 = float(input())\n",
        "    print(\"Nota do exame: %.1f\" % n5)\n",
        "    mediafinal = (media + n5)/2\n",
        "    if mediafinal >= 5.0:\n",
        "        print(\"Aluno aprovado.\")\n",
        "    else:\n",
        "        print(\"Aluno reprovado.\")\n",
        "    print(\"Media final: %.1f\" % mediafinal)"
      ],
      "metadata": {
        "colab": {
          "base_uri": "https://localhost:8080/"
        },
        "id": "SFn-nguUWUKD",
        "outputId": "6c2dbfc5-d7b9-49f8-8acd-034f7dadd529"
      },
      "execution_count": null,
      "outputs": [
        {
          "output_type": "stream",
          "name": "stdout",
          "text": [
            "2.0 4.0 7.5 8.0\n",
            "Media: 5.4\n",
            "Aluno em exame.\n",
            "6.4\n",
            "Nota do exame: 6.4\n",
            "Aluno aprovado.\n",
            "Media final: 5.9\n"
          ]
        }
      ]
    },
    {
      "cell_type": "markdown",
      "source": [
        "calculo de média"
      ],
      "metadata": {
        "id": "k7_XeVdoQ1fl"
      }
    },
    {
      "cell_type": "code",
      "source": [
        "P1= float(input( \"Nota P1: \"))\n",
        "P2= float(input( \"Nota P2: \"))\n",
        "P3= float(input( \"Nota P3: \"))\n",
        "P4= float(input( \"Nota P4: \"))\n",
        "MF= (2*P1+2*P2+3*P3+3*P4)/10\n",
        "if  MF>=7:\n",
        "  print(\"Aprovado!\")\n",
        "elif MF>-5:\n",
        "      EX= float(input( \"Nota EX: \"))\n",
        "      MEX= (EX+MF)/2\n",
        "      if MEX >=7:\n",
        "        print(\"Aprovado!\")\n",
        "      else:\n",
        "        print(\"Reprovado!\")\n",
        "else:\n",
        "        print(\"Reprovado!\")"
      ],
      "metadata": {
        "colab": {
          "base_uri": "https://localhost:8080/"
        },
        "id": "buyHDF_TRfde",
        "outputId": "ca970e56-9ac4-4173-9257-3f74f7e54696"
      },
      "execution_count": null,
      "outputs": [
        {
          "output_type": "stream",
          "name": "stdout",
          "text": [
            "Nota P1: 6\n",
            "Nota P2: 7\n",
            "Nota P3: 4\n",
            "Nota P4: 6\n",
            "Nota EX: 8\n",
            "Reprovado!\n"
          ]
        }
      ]
    },
    {
      "cell_type": "markdown",
      "source": [
        "Varificar se há numeros repitidos"
      ],
      "metadata": {
        "id": "BNkWhbGlsYsn"
      }
    },
    {
      "cell_type": "code",
      "source": [
        "A = float(input( \"1º Valor: \"))\n",
        "B = float(input( \"2º Valor: \"))\n",
        "C = float(input( \"3º Valor: \"))\n",
        "D = float(input( \"4º Valor: \"))\n",
        "if (A==B or A==C or A==D or B==C or B==D or C==D) :\n",
        "  print (\"Há números repetidos\")\n",
        "else:\n",
        "    print (\"Não há números repetidos\")"
      ],
      "metadata": {
        "colab": {
          "base_uri": "https://localhost:8080/"
        },
        "id": "AnLTFxHApkGr",
        "outputId": "20cbcb15-9d01-432f-a0fa-4f5e85fe0ef2"
      },
      "execution_count": null,
      "outputs": [
        {
          "output_type": "stream",
          "name": "stdout",
          "text": [
            "1º Valor: 9\n",
            "2º Valor: 0\n",
            "3º Valor: 3\n",
            "4º Valor: 2\n",
            "Não há números repetidos\n"
          ]
        }
      ]
    },
    {
      "cell_type": "markdown",
      "source": [
        "Calculo IMC"
      ],
      "metadata": {
        "id": "QHCntqU1sM6q"
      }
    },
    {
      "cell_type": "code",
      "source": [
        "conta=1\n",
        "while conta <= 10:\n",
        "  peso= float(input(\"Peso: \"))\n",
        "  altura=float(input(\"Altura: \"))\n",
        "  imc= peso/(altura**2)\n",
        "  print(\"IMC %f\" % imc)\n",
        "  conta= conta+1"
      ],
      "metadata": {
        "id": "j3kBjlyulz2D",
        "colab": {
          "base_uri": "https://localhost:8080/",
          "height": 380
        },
        "outputId": "2cb06098-4fd1-4804-c96c-6630d7268225"
      },
      "execution_count": null,
      "outputs": [
        {
          "output_type": "error",
          "ename": "KeyboardInterrupt",
          "evalue": "ignored",
          "traceback": [
            "\u001b[0;31m---------------------------------------------------------------------------\u001b[0m",
            "\u001b[0;31mKeyboardInterrupt\u001b[0m                         Traceback (most recent call last)",
            "\u001b[0;32m<ipython-input-6-fc303640b176>\u001b[0m in \u001b[0;36m<module>\u001b[0;34m\u001b[0m\n\u001b[1;32m      1\u001b[0m \u001b[0mconta\u001b[0m\u001b[0;34m=\u001b[0m\u001b[0;36m1\u001b[0m\u001b[0;34m\u001b[0m\u001b[0;34m\u001b[0m\u001b[0m\n\u001b[1;32m      2\u001b[0m \u001b[0;32mwhile\u001b[0m \u001b[0mconta\u001b[0m \u001b[0;34m<=\u001b[0m \u001b[0;36m10\u001b[0m\u001b[0;34m:\u001b[0m\u001b[0;34m\u001b[0m\u001b[0;34m\u001b[0m\u001b[0m\n\u001b[0;32m----> 3\u001b[0;31m   \u001b[0mpeso\u001b[0m\u001b[0;34m=\u001b[0m \u001b[0mfloat\u001b[0m\u001b[0;34m(\u001b[0m\u001b[0minput\u001b[0m\u001b[0;34m(\u001b[0m\u001b[0;34m\"Peso: \"\u001b[0m\u001b[0;34m)\u001b[0m\u001b[0;34m)\u001b[0m\u001b[0;34m\u001b[0m\u001b[0;34m\u001b[0m\u001b[0m\n\u001b[0m\u001b[1;32m      4\u001b[0m   \u001b[0maltura\u001b[0m\u001b[0;34m=\u001b[0m\u001b[0mfloat\u001b[0m\u001b[0;34m(\u001b[0m\u001b[0minput\u001b[0m\u001b[0;34m(\u001b[0m\u001b[0;34m\"Altura: \"\u001b[0m\u001b[0;34m)\u001b[0m\u001b[0;34m)\u001b[0m\u001b[0;34m\u001b[0m\u001b[0;34m\u001b[0m\u001b[0m\n\u001b[1;32m      5\u001b[0m   \u001b[0mimc\u001b[0m\u001b[0;34m=\u001b[0m \u001b[0mpeso\u001b[0m\u001b[0;34m/\u001b[0m\u001b[0;34m(\u001b[0m\u001b[0maltura\u001b[0m\u001b[0;34m**\u001b[0m\u001b[0;36m2\u001b[0m\u001b[0;34m)\u001b[0m\u001b[0;34m\u001b[0m\u001b[0;34m\u001b[0m\u001b[0m\n",
            "\u001b[0;32m/usr/local/lib/python3.9/dist-packages/ipykernel/kernelbase.py\u001b[0m in \u001b[0;36mraw_input\u001b[0;34m(self, prompt)\u001b[0m\n\u001b[1;32m    858\u001b[0m                 \u001b[0;34m\"raw_input was called, but this frontend does not support input requests.\"\u001b[0m\u001b[0;34m\u001b[0m\u001b[0;34m\u001b[0m\u001b[0m\n\u001b[1;32m    859\u001b[0m             )\n\u001b[0;32m--> 860\u001b[0;31m         return self._input_request(str(prompt),\n\u001b[0m\u001b[1;32m    861\u001b[0m             \u001b[0mself\u001b[0m\u001b[0;34m.\u001b[0m\u001b[0m_parent_ident\u001b[0m\u001b[0;34m,\u001b[0m\u001b[0;34m\u001b[0m\u001b[0;34m\u001b[0m\u001b[0m\n\u001b[1;32m    862\u001b[0m             \u001b[0mself\u001b[0m\u001b[0;34m.\u001b[0m\u001b[0m_parent_header\u001b[0m\u001b[0;34m,\u001b[0m\u001b[0;34m\u001b[0m\u001b[0;34m\u001b[0m\u001b[0m\n",
            "\u001b[0;32m/usr/local/lib/python3.9/dist-packages/ipykernel/kernelbase.py\u001b[0m in \u001b[0;36m_input_request\u001b[0;34m(self, prompt, ident, parent, password)\u001b[0m\n\u001b[1;32m    902\u001b[0m             \u001b[0;32mexcept\u001b[0m \u001b[0mKeyboardInterrupt\u001b[0m\u001b[0;34m:\u001b[0m\u001b[0;34m\u001b[0m\u001b[0;34m\u001b[0m\u001b[0m\n\u001b[1;32m    903\u001b[0m                 \u001b[0;31m# re-raise KeyboardInterrupt, to truncate traceback\u001b[0m\u001b[0;34m\u001b[0m\u001b[0;34m\u001b[0m\u001b[0m\n\u001b[0;32m--> 904\u001b[0;31m                 \u001b[0;32mraise\u001b[0m \u001b[0mKeyboardInterrupt\u001b[0m\u001b[0;34m(\u001b[0m\u001b[0;34m\"Interrupted by user\"\u001b[0m\u001b[0;34m)\u001b[0m \u001b[0;32mfrom\u001b[0m \u001b[0;32mNone\u001b[0m\u001b[0;34m\u001b[0m\u001b[0;34m\u001b[0m\u001b[0m\n\u001b[0m\u001b[1;32m    905\u001b[0m             \u001b[0;32mexcept\u001b[0m \u001b[0mException\u001b[0m \u001b[0;32mas\u001b[0m \u001b[0me\u001b[0m\u001b[0;34m:\u001b[0m\u001b[0;34m\u001b[0m\u001b[0;34m\u001b[0m\u001b[0m\n\u001b[1;32m    906\u001b[0m                 \u001b[0mself\u001b[0m\u001b[0;34m.\u001b[0m\u001b[0mlog\u001b[0m\u001b[0;34m.\u001b[0m\u001b[0mwarning\u001b[0m\u001b[0;34m(\u001b[0m\u001b[0;34m\"Invalid Message:\"\u001b[0m\u001b[0;34m,\u001b[0m \u001b[0mexc_info\u001b[0m\u001b[0;34m=\u001b[0m\u001b[0;32mTrue\u001b[0m\u001b[0;34m)\u001b[0m\u001b[0;34m\u001b[0m\u001b[0;34m\u001b[0m\u001b[0m\n",
            "\u001b[0;31mKeyboardInterrupt\u001b[0m: Interrupted by user"
          ]
        }
      ]
    },
    {
      "cell_type": "markdown",
      "source": [
        "delimitar While"
      ],
      "metadata": {
        "id": "-rCfIpQtsclC"
      }
    },
    {
      "cell_type": "code",
      "source": [
        "conta=1\n",
        "while conta <= 10:\n",
        "  print(conta)\n",
        "  conta= conta+1"
      ],
      "metadata": {
        "colab": {
          "base_uri": "https://localhost:8080/"
        },
        "id": "F1XNDwobQobw",
        "outputId": "35e5995a-b4c3-4fec-a9ca-f5361adca8c4"
      },
      "execution_count": null,
      "outputs": [
        {
          "output_type": "stream",
          "name": "stdout",
          "text": [
            "1\n",
            "2\n",
            "3\n",
            "4\n",
            "5\n",
            "6\n",
            "7\n",
            "8\n",
            "9\n",
            "10\n"
          ]
        }
      ]
    },
    {
      "cell_type": "markdown",
      "source": [
        "Tabuada"
      ],
      "metadata": {
        "id": "mRrukNfasJyC"
      }
    },
    {
      "cell_type": "code",
      "source": [
        "n= int(input(\"Valor: \"))\n",
        "conta=1\n",
        "while conta <=10:\n",
        "  res= n*conta\n",
        "  print(\"%d x %d = %d\" % (n,conta,res))\n",
        "  conta = conta +1"
      ],
      "metadata": {
        "id": "ivulXc7_ra3W",
        "colab": {
          "base_uri": "https://localhost:8080/"
        },
        "outputId": "36b629cd-18cd-4d9e-bd1c-010a2fa57b6e"
      },
      "execution_count": null,
      "outputs": [
        {
          "output_type": "stream",
          "name": "stdout",
          "text": [
            "Valor: 5\n",
            "5 x 1 = 5\n",
            "5 x 2 = 10\n",
            "5 x 3 = 15\n",
            "5 x 4 = 20\n",
            "5 x 5 = 25\n",
            "5 x 6 = 30\n",
            "5 x 7 = 35\n",
            "5 x 8 = 40\n",
            "5 x 9 = 45\n",
            "5 x 10 = 50\n"
          ]
        }
      ]
    },
    {
      "cell_type": "markdown",
      "source": [],
      "metadata": {
        "id": "4iA9zg2Vfx-h"
      }
    },
    {
      "cell_type": "code",
      "source": [
        "n1 = float(input(\"Digite a 1a. Nota\"))\n",
        "n2 = float(input(\"Digite a 2a. Nota\"))\n",
        "media = (n1 * 3.5 + n2 * 7.5)/11\n",
        "print(\"MEDIA = %.5f\" % media)"
      ],
      "metadata": {
        "colab": {
          "base_uri": "https://localhost:8080/"
        },
        "id": "tDfhUIYyfWt7",
        "outputId": "c3e0076a-b8bf-4e5a-fd11-155710716382"
      },
      "execution_count": null,
      "outputs": [
        {
          "output_type": "stream",
          "name": "stdout",
          "text": [
            "Digite a 1a. Nota5.0\n",
            "Digite a 2a. Nota7.1\n",
            "MEDIA = 6.43182\n"
          ]
        }
      ]
    }
  ]
}