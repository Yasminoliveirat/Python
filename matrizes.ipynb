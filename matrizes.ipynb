{
  "nbformat": 4,
  "nbformat_minor": 0,
  "metadata": {
    "colab": {
      "provenance": [],
      "authorship_tag": "ABX9TyN9un6LxrJc1HTJpOY+70fy",
      "include_colab_link": true
    },
    "kernelspec": {
      "name": "python3",
      "display_name": "Python 3"
    },
    "language_info": {
      "name": "python"
    }
  },
  "cells": [
    {
      "cell_type": "markdown",
      "metadata": {
        "id": "view-in-github",
        "colab_type": "text"
      },
      "source": [
        "<a href=\"https://colab.research.google.com/github/Yasminoliveirat/Python/blob/main/matrizes.ipynb\" target=\"_parent\"><img src=\"https://colab.research.google.com/assets/colab-badge.svg\" alt=\"Open In Colab\"/></a>"
      ]
    },
    {
      "cell_type": "code",
      "execution_count": null,
      "metadata": {
        "colab": {
          "base_uri": "https://localhost:8080/"
        },
        "id": "Vpn7eUwqlg-c",
        "outputId": "44f20ab0-594a-48c1-9757-e042c49eff49"
      },
      "outputs": [
        {
          "output_type": "stream",
          "name": "stdout",
          "text": [
            "Digite um número real: 8\n",
            "Digite um número real: 9\n",
            "Digite um número real: 7\n",
            "Digite um número real: 4\n",
            "Digite um número real: 5\n",
            "Digite um número real: 6\n",
            "Digite um número real: 1\n",
            "Digite um número real: 2\n",
            "Digite um número real: 3\n",
            "Digite um número real: 4\n",
            "Digite um número real: 56\n",
            "Digite um número real: 79\n",
            "[[8.0, 9.0, 7.0], [4.0, 5.0, 6.0], [1.0, 2.0, 3.0], [4.0, 56.0, 79.0]]\n",
            "[24.0, 15.0, 6.0, 139.0]\n"
          ]
        }
      ],
      "source": [
        "def somatoria(m):\n",
        "  lista = []\n",
        "  for l in range (len(m)):\n",
        "    soma = 0\n",
        "    for c in range (len(m[l])):\n",
        "        soma = soma + m [l][c]\n",
        "    lista.append(soma)\n",
        "  return lista\n",
        "\n",
        "def gerarMatriz(linhas, colunas):\n",
        "    matriz = [0.0] * linhas\n",
        "    for l in range (linhas):\n",
        "      matriz[l] = [0.0] * colunas\n",
        "      for c in range (colunas):\n",
        "        matriz [l][c] = float(input(\"Digite um número real: \"))\n",
        "    return matriz\n",
        "\n",
        "def main():\n",
        "    m = gerarMatriz(4,3)\n",
        "    lista = somatoria(m)\n",
        "    print (m)\n",
        "    print(lista)\n",
        "\n",
        "main()"
      ]
    },
    {
      "cell_type": "code",
      "source": [
        "lista-[0]*1000\n",
        "T= random.randim(2,50)\n",
        "for i in range(len(lista)):\n",
        "  lista[i]=i%T;"
      ],
      "metadata": {
        "id": "_E_JybNnphaZ"
      },
      "execution_count": null,
      "outputs": []
    },
    {
      "cell_type": "code",
      "source": [
        "lista = [101, 14, -13, 21, 75, -5]\n",
        "ef bubbleSort(lista):\n",
        "    quant = len(lista)\n",
        "    for passo in range(quant-1,0,-1):\n",
        "        for i in range(passo):\n",
        "            if lista[i]>lista[i+1]:\n",
        "                temp = lista[i]\n",
        "                lista[i] = lista[i+1]\n",
        "                lista[i+1] = temp"
      ],
      "metadata": {
        "id": "2ZNEZASZ2K3R"
      },
      "execution_count": null,
      "outputs": []
    }
  ]
}